{
 "cells": [
  {
   "cell_type": "markdown",
   "metadata": {},
   "source": [
    "1.编写 Python程序,判断输入a是否为质数"
   ]
  },
  {
   "cell_type": "code",
   "execution_count": 44,
   "metadata": {},
   "outputs": [],
   "source": [
    "def isPrime(n):\n",
    "    if n <= 1:\n",
    "        return False\n",
    "    elif n == 2:\n",
    "        return True\n",
    "    else:\n",
    "        for i in range(2,n):\n",
    "            if n % i == 0:\n",
    "                return False\n",
    "        return True\n",
    "\n"
   ]
  },
  {
   "cell_type": "markdown",
   "metadata": {},
   "source": [
    "2.用Python实现插入排序该算法，不允许直接调用插入排序函数，需要手动实现其逻辑过程。"
   ]
  },
  {
   "cell_type": "code",
   "execution_count": 45,
   "metadata": {},
   "outputs": [
    {
     "name": "stdout",
     "output_type": "stream",
     "text": [
      "排序后的数组: [10, 30, 40, 50, 70, 80, 90]\n"
     ]
    }
   ],
   "source": [
    "def insertionSort(arr):\n",
    "    for i in range(1, len(arr)):\n",
    "        key = arr[i]\n",
    "        j = i - 1\n",
    "        while j >= 0 and arr[j] > key:\n",
    "            arr[j+1] = arr[j]\n",
    "            j-=1\n",
    "        arr[j+1] = key\n",
    "    return arr\n",
    "\n",
    "arr = [10, 80, 30, 90, 40, 50, 70]\n",
    "insertionSort(arr)\n",
    "print(\"排序后的数组:\", arr)"
   ]
  },
  {
   "cell_type": "markdown",
   "metadata": {},
   "source": [
    "3.用Python实现选择排序该算法，不允许直接调用选择排序函数，需要手动实现其逻辑过程。"
   ]
  },
  {
   "cell_type": "code",
   "execution_count": 46,
   "metadata": {},
   "outputs": [
    {
     "name": "stdout",
     "output_type": "stream",
     "text": [
      "排序后的数组: [10, 30, 40, 50, 70, 80, 90]\n"
     ]
    }
   ],
   "source": [
    "def selectionSort(arr):\n",
    "    for i in range(len(arr)):\n",
    "        minIndex = i\n",
    "        for j in range(i+1,len(arr)):\n",
    "            if arr[j] < arr[minIndex]:\n",
    "                minIndex = j\n",
    "        arr[minIndex], arr[i] = arr[i],arr[minIndex]\n",
    "    return arr\n",
    "\n",
    "arr = [10, 80, 30, 90, 40, 50, 70]\n",
    "selectionSort(arr)\n",
    "print(\"排序后的数组:\", arr)"
   ]
  },
  {
   "cell_type": "markdown",
   "metadata": {},
   "source": [
    "4.用Python实现快速排序该算法，不允许直接调用快速排序函数，需要手动实现其逻辑过程。"
   ]
  },
  {
   "cell_type": "code",
   "execution_count": 47,
   "metadata": {},
   "outputs": [
    {
     "name": "stdout",
     "output_type": "stream",
     "text": [
      "排序后的数组: [10, 30, 40, 50, 70, 80, 90]\n"
     ]
    }
   ],
   "source": [
    "def quickSort(arr, l, r):\n",
    "    if l >= r:  return \n",
    "    left, right = l, r\n",
    "    pivot = arr[left]\n",
    "    while left < right:\n",
    "        while left < right and arr[right] >= pivot:\n",
    "            right -= 1\n",
    "        arr[left] = arr[right]\n",
    "        while left < right and arr[left] <= pivot:\n",
    "            left += 1\n",
    "        arr[right] = arr[left]\n",
    "    arr[left] = pivot\n",
    "    quickSort(arr, left + 1, r)\n",
    "    quickSort(arr, l, left - 1)\n",
    "\n",
    "def quickSort_interface(arr):\n",
    "    quickSort(arr, 0, len(arr)- 1)\n",
    "arr = [10, 80, 30, 90, 40, 50, 70]\n",
    "quickSort(arr, 0, len(arr) - 1)\n",
    "print(\"排序后的数组:\", arr)"
   ]
  },
  {
   "cell_type": "markdown",
   "metadata": {},
   "source": [
    "5.使用 Python 随机生成三组长度递增的随机数列，长度分别为100、1000、10000，对生成的随机数组使用不同的排序算法，例如选择排序和归并排序，至少三种排序方法。对这些数列的数据排序，并分析不同排序算法在不同长度数列下的运行效果，例如运行时间等指标。（可以使用排序函数）"
   ]
  },
  {
   "cell_type": "code",
   "execution_count": 48,
   "metadata": {},
   "outputs": [
    {
     "name": "stdout",
     "output_type": "stream",
     "text": [
      "\n",
      "Array Length: 100\n",
      "Bubble Sort uses time: 0.001029 seconds.\n",
      "Selection Sort uses time: 0.000000 seconds.\n",
      "Insection Sort uses time: 0.000000 seconds.\n",
      "Quick Sort uses time: 0.000000 seconds.\n",
      "\n",
      "Array Length: 1000\n",
      "Bubble Sort uses time: 0.028994 seconds.\n",
      "Selection Sort uses time: 0.013387 seconds.\n",
      "Insection Sort uses time: 0.013695 seconds.\n",
      "Quick Sort uses time: 0.000000 seconds.\n",
      "\n",
      "Array Length: 10000\n",
      "Bubble Sort uses time: 3.374864 seconds.\n",
      "Selection Sort uses time: 1.206851 seconds.\n",
      "Insection Sort uses time: 1.558436 seconds.\n",
      "Quick Sort uses time: 0.008013 seconds.\n"
     ]
    }
   ],
   "source": [
    "import random\n",
    "import time\n",
    "def bubbleSort(arr):\n",
    "    for i in range(len(arr)):\n",
    "        for j in range(len(arr) - i - 1):\n",
    "            if arr[j + 1] < arr[j]:\n",
    "                arr[j], arr[j+1] = arr[j+1], arr[j]\n",
    "    return arr\n",
    "def generate_random_array(length, min_value, max_value):\n",
    "    return [random.randint(min_value, max_value) for i in range(length)]\n",
    "#arr1 = generate_random_array(100, 0, 100)\n",
    "#arr2 = generate_random_array(1000, 0, 100)\n",
    "#arr3 = generate_random_array(10000, 0, 100)\n",
    "def analyze_sorting_algorithms():\n",
    "    lengths = [100, 1000, 10000]\n",
    "    algorithms = {\n",
    "        'Bubble Sort': bubbleSort,\n",
    "        'Selection Sort': selectionSort,\n",
    "        'Insection Sort': insertionSort,\n",
    "        'Quick Sort': quickSort_interface\n",
    "    }\n",
    "    for length in lengths:\n",
    "        print(f\"\\nArray Length: {length}\")\n",
    "        random_array = generate_random_array(length, 0 ,10000)\n",
    "        for algo_name, algo in algorithms.items():\n",
    "            arr_copy = random_array.copy()\n",
    "            start_time = time.time()\n",
    "            algo(arr_copy)\n",
    "            end_time = time.time()\n",
    "            duration = end_time - start_time\n",
    "            print(f\"{algo_name} uses time: {duration:.6f} seconds.\")\n",
    "\n",
    "analyze_sorting_algorithms()"
   ]
  },
  {
   "cell_type": "markdown",
   "metadata": {},
   "source": [
    "6.使用python代码获取当前系统时间"
   ]
  },
  {
   "cell_type": "code",
   "execution_count": 49,
   "metadata": {},
   "outputs": [
    {
     "name": "stdout",
     "output_type": "stream",
     "text": [
      "2024-10-17 10:26:16.846298\n"
     ]
    }
   ],
   "source": [
    "from datetime import datetime\n",
    "current_time = datetime.now()\n",
    "print(current_time)"
   ]
  },
  {
   "cell_type": "markdown",
   "metadata": {},
   "source": [
    "7.Homework/data文件夹下的stuGrade.csv文件中包含5位同学的学号、语文成绩、数学成绩和英语成绩，请先用记事本打开该文件，查看文件内容，然后编写Python程序，读取该文件，并计算出各科的平均成绩（保留2位小数）。"
   ]
  },
  {
   "cell_type": "code",
   "execution_count": 50,
   "metadata": {},
   "outputs": [],
   "source": [
    "with open(r'D:\\AA_Frank\\Program\\ECNU\\dase_introduction\\HW_for_dase_2024\\data\\stuGrade.csv','r',encoding='utf=8') as file:\n",
    "    lines = file.readlines()\n",
    "    #print(lines)\n",
    "    # 去除每一行末尾的换行符并将逗号分隔的字符串转换为列表\n",
    "    proceeded_data = [line.strip().split(',') for line in lines]\n",
    "    #print(proceeded_data)\n",
    "    headers = proceeded_data[0]\n",
    "    students = [dict(zip(headers, row)) for row in proceeded_data[1:]]\n",
    "    #print(students)\n",
    "    sumChinese, sumMath , sumEnglish = 0,0 ,0\n",
    "    for student in students:\n",
    "        sumChinese += int(student['chinese'])\n",
    "        sumEnglish += int(student['english'])\n",
    "        sumMath += int(student['math'])\n",
    "    \n",
    "\n",
    "    with open('my.txt','w') as f:\n",
    "        f.write(\"10245501488 王宏伟\\n\")\n",
    "        #print(f\"{sumChinese / 5}, {sumMath/5}, {sumEnglish/5}\",file = f)\n",
    "        print(\"%.2f, %.2f, %.2f\"%( sumChinese / 5.0, sumEnglish / 5.0, sumMath / 5.0), file = f)\n",
    "        current_time = datetime.now()\n",
    "        formatted_time = current_time.strftime(\"%Y-%m-%d %H:%M:%S\")\n",
    "        print(formatted_time, file=f)\n",
    "        time.sleep(2)\n",
    "        newTime = datetime.now()\n",
    "        new_time = newTime.strftime(\"%Y-%m-%d %H:%M:%S\")\n",
    "        print(new_time, file=f)"
   ]
  },
  {
   "cell_type": "markdown",
   "metadata": {},
   "source": [
    "8.请在第7题的代码继续编写Python程序，将以下内容写入my.txt文件中，一并上传到github中。\n",
    "\n",
    "    第1行：你的学号和姓名\n",
    "\n",
    "    第2行：3门课程的平均成绩（任意课程），保留2位小数，以英文逗号间隔\n",
    "\n",
    "    第3行：系统当前时间，格式例如2020-01-01 12:00:00\n",
    "\n",
    "    第4行：两秒后的系统当前时间（利用sleep()方法）"
   ]
  }
 ],
 "metadata": {
  "kernelspec": {
   "display_name": "Python 3",
   "language": "python",
   "name": "python3"
  },
  "language_info": {
   "codemirror_mode": {
    "name": "ipython",
    "version": 3
   },
   "file_extension": ".py",
   "mimetype": "text/x-python",
   "name": "python",
   "nbconvert_exporter": "python",
   "pygments_lexer": "ipython3",
   "version": "3.8.10"
  }
 },
 "nbformat": 4,
 "nbformat_minor": 2
}
